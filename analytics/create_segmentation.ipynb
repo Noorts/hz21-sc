{
 "cells": [
  {
   "cell_type": "code",
   "execution_count": 2,
   "source": [
    "import pandas as pd\n",
    "import numpy as np"
   ],
   "outputs": [],
   "metadata": {}
  },
  {
   "cell_type": "code",
   "execution_count": 14,
   "source": [
    "df = pd.read_csv('data/rssi.csv')"
   ],
   "outputs": [],
   "metadata": {}
  },
  {
   "cell_type": "code",
   "execution_count": 218,
   "source": [
    "# Test with smaller df\n",
    "\n",
    "# df.head(50000).to_csv('data/rssi_50k.csv')\n",
    "# df = pd.read_csv('data/rssi_50k.csv')"
   ],
   "outputs": [],
   "metadata": {}
  },
  {
   "cell_type": "code",
   "execution_count": 15,
   "source": [
    "# create TourID\n",
    "\n",
    "df['AreaNumerDif'] = df['AreaNumber'] - df['AreaNumber'].shift(-1) # find new stations\n",
    "df.loc[df['AreaNumerDif']>0, 'AreaNumerDif'] = 1 # steps between stations always 1 or -1, depending on train direction\n",
    "df.loc[df['AreaNumerDif']<0, 'AreaNumerDif'] = -1\n",
    "df['AreaNumerDif'] = df['AreaNumerDif'].replace(0, np.nan) # nan where no change of station\n",
    "df['AreaNumerDif'] = df['AreaNumerDif'].fillna(method='backfill') # fill with direction of next station change\n",
    "df['AreaNumerDif'] = df['AreaNumerDif'].fillna(method='ffill') # fill last rows of dataset\n",
    "\n",
    "df['AreaNumerDifDif'] = df['AreaNumerDif'] - df['AreaNumerDif'].shift(-1) # find shifts of direction\n",
    "df.loc[df['AreaNumerDifDif']!=0, 'AreaNumerDifDif'] = df.loc[df['AreaNumerDifDif']!=0, 'ID'] # set row id where direction changes\n",
    "df['AreaNumerDifDif'] = df['AreaNumerDifDif'].replace(0, np.nan) # nan, where no change of direction\n",
    "df['AreaNumerDifDif'] = df['AreaNumerDifDif'].fillna(method='backfill') # fill with TourID of next TourID\n",
    "df.rename(columns = {'AreaNumerDifDif':'TourID'}, inplace = True)"
   ],
   "outputs": [],
   "metadata": {}
  },
  {
   "cell_type": "code",
   "execution_count": 16,
   "source": [
    "# create TrackSegment\n",
    "\n",
    "df['TrackSegment'] = df['PositionNoLeap'] / 1000\n",
    "df['TrackSegment'] = df['TrackSegment'].astype(int) # cut last digits"
   ],
   "outputs": [],
   "metadata": {}
  },
  {
   "cell_type": "code",
   "execution_count": 17,
   "source": [
    "# test\n",
    "# df.to_csv('data/rssi_50k_test.csv')"
   ],
   "outputs": [],
   "metadata": {}
  },
  {
   "cell_type": "code",
   "execution_count": 19,
   "source": [
    "# Create SNR\n",
    "\n",
    "df['A1_TotalTelDif'] = df['A1_TotalTel'] - df['A1_TotalTel'].shift(1)\n",
    "df['A1_ValidTelDif'] = df['A1_ValidTel'] - df['A1_ValidTel'].shift(1)\n",
    "df['SNR'] = df['A1_ValidTelDif'] / df['A1_TotalTelDif']"
   ],
   "outputs": [],
   "metadata": {}
  },
  {
   "cell_type": "code",
   "execution_count": 20,
   "source": [
    "df_segments = df[['Latitude', 'Longitude', 'A2_RSSI', 'SNR', 'TourID', 'TrackSegment']]\n",
    "aggregations = {\n",
    "    'Latitude': 'mean',\n",
    "    'Longitude': 'mean',\n",
    "    'A2_RSSI': 'min',\n",
    "    'SNR': 'min',\n",
    "    'TourID': 'min'}\n",
    "df_segments = df_segments.groupby(['TrackSegment', 'TourID']).agg(aggregations)"
   ],
   "outputs": [],
   "metadata": {}
  },
  {
   "cell_type": "code",
   "execution_count": 21,
   "source": [
    "df_segments"
   ],
   "outputs": [
    {
     "output_type": "execute_result",
     "data": {
      "text/html": [
       "<div>\n",
       "<style scoped>\n",
       "    .dataframe tbody tr th:only-of-type {\n",
       "        vertical-align: middle;\n",
       "    }\n",
       "\n",
       "    .dataframe tbody tr th {\n",
       "        vertical-align: top;\n",
       "    }\n",
       "\n",
       "    .dataframe thead th {\n",
       "        text-align: right;\n",
       "    }\n",
       "</style>\n",
       "<table border=\"1\" class=\"dataframe\">\n",
       "  <thead>\n",
       "    <tr style=\"text-align: right;\">\n",
       "      <th></th>\n",
       "      <th></th>\n",
       "      <th>Latitude</th>\n",
       "      <th>Longitude</th>\n",
       "      <th>A2_RSSI</th>\n",
       "      <th>SNR</th>\n",
       "      <th>TourID</th>\n",
       "    </tr>\n",
       "    <tr>\n",
       "      <th>TrackSegment</th>\n",
       "      <th>TourID</th>\n",
       "      <th></th>\n",
       "      <th></th>\n",
       "      <th></th>\n",
       "      <th></th>\n",
       "      <th></th>\n",
       "    </tr>\n",
       "  </thead>\n",
       "  <tbody>\n",
       "    <tr>\n",
       "      <th rowspan=\"5\" valign=\"top\">97</th>\n",
       "      <th>196777.0</th>\n",
       "      <td>47.304858</td>\n",
       "      <td>8.049463</td>\n",
       "      <td>0.07</td>\n",
       "      <td>0.988525</td>\n",
       "      <td>196777.0</td>\n",
       "    </tr>\n",
       "    <tr>\n",
       "      <th>234047.0</th>\n",
       "      <td>47.305277</td>\n",
       "      <td>8.049646</td>\n",
       "      <td>1.88</td>\n",
       "      <td>1.000000</td>\n",
       "      <td>234047.0</td>\n",
       "    </tr>\n",
       "    <tr>\n",
       "      <th>348416.0</th>\n",
       "      <td>47.305015</td>\n",
       "      <td>8.049532</td>\n",
       "      <td>0.07</td>\n",
       "      <td>0.000000</td>\n",
       "      <td>348416.0</td>\n",
       "    </tr>\n",
       "    <tr>\n",
       "      <th>625056.0</th>\n",
       "      <td>47.305286</td>\n",
       "      <td>8.049649</td>\n",
       "      <td>2.26</td>\n",
       "      <td>1.000000</td>\n",
       "      <td>625056.0</td>\n",
       "    </tr>\n",
       "    <tr>\n",
       "      <th>666568.0</th>\n",
       "      <td>47.304984</td>\n",
       "      <td>8.049518</td>\n",
       "      <td>0.93</td>\n",
       "      <td>0.000000</td>\n",
       "      <td>666568.0</td>\n",
       "    </tr>\n",
       "    <tr>\n",
       "      <th>...</th>\n",
       "      <th>...</th>\n",
       "      <td>...</td>\n",
       "      <td>...</td>\n",
       "      <td>...</td>\n",
       "      <td>...</td>\n",
       "      <td>...</td>\n",
       "    </tr>\n",
       "    <tr>\n",
       "      <th rowspan=\"5\" valign=\"top\">428</th>\n",
       "      <th>29581190.0</th>\n",
       "      <td>47.240285</td>\n",
       "      <td>8.189582</td>\n",
       "      <td>2.06</td>\n",
       "      <td>0.999666</td>\n",
       "      <td>29581190.0</td>\n",
       "    </tr>\n",
       "    <tr>\n",
       "      <th>29609237.0</th>\n",
       "      <td>47.240287</td>\n",
       "      <td>8.189581</td>\n",
       "      <td>2.06</td>\n",
       "      <td>0.999801</td>\n",
       "      <td>29609237.0</td>\n",
       "    </tr>\n",
       "    <tr>\n",
       "      <th>29891348.0</th>\n",
       "      <td>47.240293</td>\n",
       "      <td>8.189579</td>\n",
       "      <td>2.30</td>\n",
       "      <td>0.999068</td>\n",
       "      <td>29891348.0</td>\n",
       "    </tr>\n",
       "    <tr>\n",
       "      <th>30169798.0</th>\n",
       "      <td>47.240296</td>\n",
       "      <td>8.189577</td>\n",
       "      <td>2.26</td>\n",
       "      <td>1.000000</td>\n",
       "      <td>30169798.0</td>\n",
       "    </tr>\n",
       "    <tr>\n",
       "      <th>30409183.0</th>\n",
       "      <td>47.240301</td>\n",
       "      <td>8.189576</td>\n",
       "      <td>2.30</td>\n",
       "      <td>0.999285</td>\n",
       "      <td>30409183.0</td>\n",
       "    </tr>\n",
       "  </tbody>\n",
       "</table>\n",
       "<p>1091876 rows × 5 columns</p>\n",
       "</div>"
      ],
      "text/plain": [
       "                          Latitude  Longitude  A2_RSSI       SNR      TourID\n",
       "TrackSegment TourID                                                         \n",
       "97           196777.0    47.304858   8.049463     0.07  0.988525    196777.0\n",
       "             234047.0    47.305277   8.049646     1.88  1.000000    234047.0\n",
       "             348416.0    47.305015   8.049532     0.07  0.000000    348416.0\n",
       "             625056.0    47.305286   8.049649     2.26  1.000000    625056.0\n",
       "             666568.0    47.304984   8.049518     0.93  0.000000    666568.0\n",
       "...                            ...        ...      ...       ...         ...\n",
       "428          29581190.0  47.240285   8.189582     2.06  0.999666  29581190.0\n",
       "             29609237.0  47.240287   8.189581     2.06  0.999801  29609237.0\n",
       "             29891348.0  47.240293   8.189579     2.30  0.999068  29891348.0\n",
       "             30169798.0  47.240296   8.189577     2.26  1.000000  30169798.0\n",
       "             30409183.0  47.240301   8.189576     2.30  0.999285  30409183.0\n",
       "\n",
       "[1091876 rows x 5 columns]"
      ]
     },
     "metadata": {},
     "execution_count": 21
    }
   ],
   "metadata": {}
  },
  {
   "cell_type": "code",
   "execution_count": 23,
   "source": [
    "df_segments.to_csv('data/rssi_segmented.csv')"
   ],
   "outputs": [],
   "metadata": {}
  },
  {
   "cell_type": "code",
   "execution_count": null,
   "source": [],
   "outputs": [],
   "metadata": {}
  }
 ],
 "metadata": {
  "orig_nbformat": 4,
  "language_info": {
   "name": "python",
   "version": "3.9.7",
   "mimetype": "text/x-python",
   "codemirror_mode": {
    "name": "ipython",
    "version": 3
   },
   "pygments_lexer": "ipython3",
   "nbconvert_exporter": "python",
   "file_extension": ".py"
  },
  "kernelspec": {
   "name": "python3",
   "display_name": "Python 3.9.7 64-bit ('HackZurich-geT5Fic9': pipenv)"
  },
  "interpreter": {
   "hash": "1f8e22d3d9fba06956130020ef09e657023ab992630a0fb092ab21b51dbd1103"
  }
 },
 "nbformat": 4,
 "nbformat_minor": 2
}